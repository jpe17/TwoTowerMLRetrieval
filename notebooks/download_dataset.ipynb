{
 "cells": [
  {
   "cell_type": "markdown",
   "metadata": {},
   "source": [
    "# Use this to download the dataset from MS Marco"
   ]
  },
  {
   "cell_type": "code",
   "execution_count": 3,
   "metadata": {},
   "outputs": [
    {
     "ename": "SyntaxError",
     "evalue": "invalid syntax (3948669467.py, line 1)",
     "output_type": "error",
     "traceback": [
      "  \u001b[36mCell\u001b[39m\u001b[36m \u001b[39m\u001b[32mIn[3]\u001b[39m\u001b[32m, line 1\u001b[39m\n\u001b[31m    \u001b[39m\u001b[31mfrom datasets-cli import load_dataset\u001b[39m\n                 ^\n\u001b[31mSyntaxError\u001b[39m\u001b[31m:\u001b[39m invalid syntax\n"
     ]
    }
   ],
   "source": [
    "from datasets import load_dataset\n",
    "\n",
    "# Load the dataset from Hugging Face\n",
    "dataset = load_dataset(\"ms_marco\", \"v2.1\")\n",
    "\n",
    "# Convert one of the splits (e.g., train) to a pandas DataFrame\n",
    "df_train = dataset[\"train\"].to_pandas()\n",
    "# Save it as a Parquet file\n",
    "df_train.to_parquet(\"../data/ms_marco_train.parquet\", engine=\"pyarrow\")\n"
   ]
  },
  {
   "cell_type": "code",
   "execution_count": null,
   "metadata": {},
   "outputs": [],
   "source": [
    "# Convert one of the splits (e.g., test) to a pandas DataFrame and download to parquet\n",
    "df_test = dataset[\"test\"].to_pandas()\n",
    "df_test.to_parquet(\"../data/ms_marco_test.parquet\", engine=\"pyarrow\")"
   ]
  },
  {
   "cell_type": "code",
   "execution_count": 3,
   "metadata": {},
   "outputs": [
    {
     "name": "stderr",
     "output_type": "stream",
     "text": [
      "Generating validation split: 100%|██████████| 101093/101093 [00:00<00:00, 300728.02 examples/s]\n",
      "Generating train split: 100%|██████████| 808731/808731 [00:02<00:00, 315508.87 examples/s]\n",
      "Generating test split: 100%|██████████| 101092/101092 [00:00<00:00, 321577.28 examples/s]\n"
     ]
    }
   ],
   "source": [
    "from datasets import load_dataset\n",
    "\n",
    "# Load the dataset from Hugging Face\n",
    "dataset = load_dataset(\"ms_marco\", \"v2.1\")\n",
    "\n",
    "# Convert one of the splits (e.g., validation) to a pandas DataFrame and download to parquet\n",
    "df_validation = dataset[\"validation\"].to_pandas()\n",
    "df_validation.to_parquet(\"../data/ms_marco_validation.parquet\", engine=\"pyarrow\")"
   ]
  },
  {
   "cell_type": "code",
   "execution_count": null,
   "metadata": {},
   "outputs": [],
   "source": []
  }
 ],
 "metadata": {
  "kernelspec": {
   "display_name": "venv",
   "language": "python",
   "name": "python3"
  },
  "language_info": {
   "codemirror_mode": {
    "name": "ipython",
    "version": 3
   },
   "file_extension": ".py",
   "mimetype": "text/x-python",
   "name": "python",
   "nbconvert_exporter": "python",
   "pygments_lexer": "ipython3",
   "version": "3.13.5"
  }
 },
 "nbformat": 4,
 "nbformat_minor": 2
}
