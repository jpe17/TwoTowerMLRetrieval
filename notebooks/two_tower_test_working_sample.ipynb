{
 "cells": [
  {
   "cell_type": "code",
   "execution_count": 1,
   "id": "ceac1afe",
   "metadata": {},
   "outputs": [],
   "source": [
    "import torch\n",
    "import torch.nn as nn\n",
    "import torch.nn.functional as F\n",
    "from torch.utils.data import Dataset, DataLoader\n",
    "from torch.nn.utils.rnn import pad_sequence\n",
    "import random"
   ]
  },
  {
   "cell_type": "code",
   "execution_count": 2,
   "id": "2b3c19fb",
   "metadata": {},
   "outputs": [],
   "source": [
    "# --- Sample Synthetic Data (in real usage, load MS MARCO preprocessed triples) ---\n",
    "data = [\n",
    "    (\"what is ai\", \"artificial intelligence explanation\", \"banana nutrition\"),\n",
    "    (\"define deep learning\", \"deep learning is a subset of machine learning\", \"weather in london\"),\n",
    "    (\"machine learning applications\", \"uses of machine learning in finance\", \"cooking pasta\")\n",
    "]\n"
   ]
  },
  {
   "cell_type": "code",
   "execution_count": 3,
   "id": "0d19900c",
   "metadata": {},
   "outputs": [],
   "source": [
    "# --- Tokenizer and Vocab ---\n",
    "from collections import defaultdict\n",
    "from itertools import chain\n",
    "\n",
    "class SimpleTokenizer:\n",
    "    def __init__(self):\n",
    "        self.word2idx = defaultdict(self._new_index)\n",
    "        self.idx = 0\n",
    "        self.locked = False\n",
    "\n",
    "    def _new_index(self):\n",
    "        if self.locked:\n",
    "            return 0  # default to <PAD> for unknown tokens\n",
    "        idx = self.idx\n",
    "        self.idx += 1\n",
    "        return idx\n",
    "\n",
    "    def encode(self, sentence):\n",
    "        return [self.word2idx[word.lower()] for word in sentence.split()]\n",
    "\n",
    "    def vocab_size(self):\n",
    "        return self.idx\n",
    "\n",
    "    def lock_vocab(self):\n",
    "        self.locked = True\n"
   ]
  },
  {
   "cell_type": "code",
   "execution_count": 4,
   "id": "eea44b18",
   "metadata": {},
   "outputs": [],
   "source": [
    "# Build vocab\n",
    "tokenizer = SimpleTokenizer()\n",
    "_ = [tokenizer.encode(text) for triplet in data for text in triplet]  # populate vocab\n",
    "tokenizer.lock_vocab()"
   ]
  },
  {
   "cell_type": "code",
   "execution_count": 5,
   "id": "b3ba67ea",
   "metadata": {},
   "outputs": [],
   "source": [
    "# --- Dataset Class ---\n",
    "class TripletDataset(Dataset):\n",
    "    def __init__(self, data, tokenizer):\n",
    "        self.data = data\n",
    "        self.tokenizer = tokenizer\n",
    "\n",
    "    def __len__(self):\n",
    "        return len(self.data)\n",
    "\n",
    "    def __getitem__(self, idx):\n",
    "        query, pos_doc, neg_doc = self.data[idx]\n",
    "        return (torch.tensor(self.tokenizer.encode(query)),\n",
    "                torch.tensor(self.tokenizer.encode(pos_doc)),\n",
    "                torch.tensor(self.tokenizer.encode(neg_doc)))"
   ]
  },
  {
   "cell_type": "code",
   "execution_count": 6,
   "id": "7a26ea8b",
   "metadata": {},
   "outputs": [],
   "source": [
    "# --- Collate Function ---\n",
    "def collate_fn(batch):\n",
    "    queries, pos_docs, neg_docs = zip(*batch)\n",
    "    return (\n",
    "        pad_sequence(queries, batch_first=True),\n",
    "        pad_sequence(pos_docs, batch_first=True),\n",
    "        pad_sequence(neg_docs, batch_first=True)\n",
    "    )"
   ]
  },
  {
   "cell_type": "code",
   "execution_count": 7,
   "id": "800f97dc",
   "metadata": {},
   "outputs": [],
   "source": [
    "# --- Dual RNN Encoder Model ---\n",
    "class RNNEncoder(nn.Module):\n",
    "    def __init__(self, vocab_size, embed_dim, hidden_dim):\n",
    "        super().__init__()\n",
    "        self.embedding = nn.Embedding(vocab_size, embed_dim, padding_idx=0)\n",
    "        self.rnn = nn.GRU(embed_dim, hidden_dim, batch_first=True)\n",
    "\n",
    "    def forward(self, x):\n",
    "        x = self.embedding(x)\n",
    "        _, h_n = self.rnn(x)\n",
    "        return h_n.squeeze(0)  # shape: (batch, hidden_dim)"
   ]
  },
  {
   "cell_type": "code",
   "execution_count": 8,
   "id": "23204e3f",
   "metadata": {},
   "outputs": [],
   "source": [
    "# --- Triplet Loss Function ---\n",
    "def triplet_loss_function(triplet, distance_function, margin):\n",
    "    query, pos_doc, neg_doc = triplet\n",
    "    d_pos = distance_function(query, pos_doc)\n",
    "    d_neg = distance_function(query, neg_doc)\n",
    "    return torch.clamp(d_pos - d_neg + margin, min=0.0).mean()\n"
   ]
  },
  {
   "cell_type": "code",
   "execution_count": 9,
   "id": "2b53d060",
   "metadata": {},
   "outputs": [],
   "source": [
    "# --- Training Setup ---\n",
    "VOCAB_SIZE = tokenizer.vocab_size()\n",
    "EMBED_DIM = 64\n",
    "HIDDEN_DIM = 128\n",
    "MARGIN = 1.0\n",
    "\n",
    "query_encoder = RNNEncoder(VOCAB_SIZE, EMBED_DIM, HIDDEN_DIM)\n",
    "doc_encoder = RNNEncoder(VOCAB_SIZE, EMBED_DIM, HIDDEN_DIM)\n",
    "\n",
    "optimizer = torch.optim.Adam(list(query_encoder.parameters()) + list(doc_encoder.parameters()), lr=0.001)\n",
    "dataset = TripletDataset(data, tokenizer)\n",
    "dataloader = DataLoader(dataset, batch_size=2, shuffle=True, collate_fn=collate_fn)"
   ]
  },
  {
   "cell_type": "code",
   "execution_count": 10,
   "id": "2ea93713",
   "metadata": {},
   "outputs": [
    {
     "name": "stdout",
     "output_type": "stream",
     "text": [
      "Epoch 1, Loss: 1.9686\n",
      "Epoch 2, Loss: 0.2344\n",
      "Epoch 3, Loss: 0.4333\n",
      "Epoch 4, Loss: 0.0000\n",
      "Epoch 5, Loss: 0.0000\n"
     ]
    }
   ],
   "source": [
    "# --- Training Loop ---\n",
    "for epoch in range(5):\n",
    "    total_loss = 0\n",
    "    for query_batch, pos_batch, neg_batch in dataloader:\n",
    "        q_vec = query_encoder(query_batch)\n",
    "        pos_vec = doc_encoder(pos_batch)\n",
    "        neg_vec = doc_encoder(neg_batch)\n",
    "\n",
    "        loss = triplet_loss_function((q_vec, pos_vec, neg_vec), F.pairwise_distance, MARGIN)\n",
    "\n",
    "        optimizer.zero_grad()\n",
    "        loss.backward()\n",
    "        optimizer.step()\n",
    "\n",
    "        total_loss += loss.item()\n",
    "    print(f\"Epoch {epoch+1}, Loss: {total_loss:.4f}\")"
   ]
  },
  {
   "cell_type": "code",
   "execution_count": 11,
   "id": "e1362865",
   "metadata": {},
   "outputs": [],
   "source": [
    "# --- Inference Function ---\n",
    "def search(query_text, documents, tokenizer, query_encoder, doc_encoder):\n",
    "    with torch.no_grad():\n",
    "        query_tensor = pad_sequence([torch.tensor(tokenizer.encode(query_text))], batch_first=True)\n",
    "        query_vec = query_encoder(query_tensor)\n",
    "\n",
    "        doc_tensors = pad_sequence([torch.tensor(tokenizer.encode(doc)) for doc in documents], batch_first=True)\n",
    "        doc_vecs = doc_encoder(doc_tensors)\n",
    "\n",
    "        scores = F.cosine_similarity(query_vec, doc_vecs)\n",
    "        top_indices = torch.argsort(scores, descending=True)\n",
    "        return [(documents[i], scores[i].item()) for i in top_indices]"
   ]
  },
  {
   "cell_type": "code",
   "execution_count": 12,
   "id": "e338c56f",
   "metadata": {},
   "outputs": [
    {
     "name": "stdout",
     "output_type": "stream",
     "text": [
      "\n",
      "Search results:\n",
      "deep learning applications (score: 0.0267)\n",
      "introduction to ai (score: -0.0974)\n",
      "machine learning in banking (score: -0.1749)\n",
      "banana smoothie (score: -0.3350)\n"
     ]
    }
   ],
   "source": [
    "# --- Example Usage ---\n",
    "documents = [\"deep learning applications\", \"banana smoothie\", \"introduction to ai\", \"machine learning in banking\"]\n",
    "results = search(\"what is ai\", documents, tokenizer, query_encoder, doc_encoder)\n",
    "\n",
    "print(\"\\nSearch results:\")\n",
    "for doc, score in results:\n",
    "    print(f\"{doc} (score: {score:.4f})\")\n"
   ]
  },
  {
   "cell_type": "code",
   "execution_count": null,
   "id": "448019c7",
   "metadata": {},
   "outputs": [],
   "source": []
  }
 ],
 "metadata": {
  "kernelspec": {
   "display_name": "Python 3",
   "language": "python",
   "name": "python3"
  },
  "language_info": {
   "codemirror_mode": {
    "name": "ipython",
    "version": 3
   },
   "file_extension": ".py",
   "mimetype": "text/x-python",
   "name": "python",
   "nbconvert_exporter": "python",
   "pygments_lexer": "ipython3",
   "version": "3.10.17"
  }
 },
 "nbformat": 4,
 "nbformat_minor": 5
}
