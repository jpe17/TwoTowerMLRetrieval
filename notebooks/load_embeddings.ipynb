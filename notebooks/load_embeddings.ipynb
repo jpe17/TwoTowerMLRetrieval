{
 "cells": [
  {
   "cell_type": "code",
   "execution_count": null,
   "metadata": {
    "vscode": {
     "languageId": "plaintext"
    }
   },
   "outputs": [],
   "source": [
    "    # Load and sample data FIRST\n",
    "    print(\"Loading raw data...\")\n",
    "    df = pd.read_parquet(config.DATA_PATH)\n",
    "    print(f\"📊 Sampling {config.NUMBER_OF_SAMPLES:,} samples...\")\n",
    "    df_sample = df.sample(n=config.NUMBER_OF_SAMPLES, random_state=config.RANDOM_STATE).copy()\n",
    "    print(f\"Sampled: {len(df_sample)} samples\")\n",
    "    \n",
    "    # Apply filtering AFTER sampling\n",
    "    print(\"Filtering data...\")\n",
    "    df_filtered = df_sample[\n",
    "        (df_sample['score'] >= config.MINIMUM_SCORE) &\n",
    "        (df_sample['score'] <= config.MAXIMUM_SCORE) &\n",
    "        (df_sample['title'].notna()) &\n",
    "        (df_sample['by'].notna()) &\n",
    "        (df_sample['time'].notna())\n",
    "    ].copy()\n",
    "    print(f\"After filtering: {len(df_filtered)} samples\")\n",
    "    \n",
    "    # Create target variable ONCE\n",
    "    print(\"Creating target variable...\")\n",
    "    df_filtered['score_log'] = np.log1p(df_filtered['score'])\n",
    "    \n",
    "    # Verify consistency\n",
    "    test_consistency = np.abs(df_filtered['score_log'] - np.log1p(df_filtered['score'])).max()\n",
    "    print(f\"Target consistency check: {test_consistency:.10f}\")\n",
    "    assert test_consistency < 1e-10, \"Target variable inconsistency detected!\"\n",
    "    \n",
    "    # Create advanced features\n",
    "    df_filtered = create_advanced_features(df_filtered)\n",
    "    \n",
    "    # NO DATA AUGMENTATION - Remove this step that was causing corruption\n",
    "    print(\"ℹ️ Skipping data augmentation to ensure data consistency\")\n",
    "    \n",
    "    # Load embeddings (skip if TITLE_EMB_DIM = 0)\n",
    "    if config.TITLE_EMB_DIM > 0:\n",
    "        print(\"Loading embeddings...\")\n",
    "        word_to_idx, embeddings = load_glove_embeddings()\n",
    "        \n",
    "        if word_to_idx is None:\n",
    "            # Use zero embeddings if cache not available\n",
    "            print(\"Using zero embeddings for testing...\")\n",
    "            X_title_embeddings = np.zeros((len(df_filtered), config.TITLE_EMB_DIM), dtype=np.float32)\n",
    "        else:\n",
    "            print(\"Creating title embeddings...\")\n",
    "            X_title_embeddings = np.array([\n",
    "                title_to_embedding(title, word_to_idx, embeddings)\n",
    "                for title in df_filtered['title']\n",
    "            ], dtype=np.float32)\n",
    "    else:\n",
    "        print(\"Skipping title embeddings (TITLE_EMB_DIM = 0)\")\n",
    "        X_title_embeddings = np.zeros((len(df_filtered), 0), dtype=np.float32)"
   ]
  }
 ],
 "metadata": {
  "language_info": {
   "name": "python"
  }
 },
 "nbformat": 4,
 "nbformat_minor": 2
}
