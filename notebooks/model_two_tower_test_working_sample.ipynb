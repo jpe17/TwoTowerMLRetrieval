{
 "cells": [
  {
   "cell_type": "markdown",
   "id": "79c4c46c",
   "metadata": {},
   "source": [
    "### **Step 1**: Import configs and hyperparameters"
   ]
  },
  {
   "cell_type": "code",
   "execution_count": 1,
   "id": "c6178d23",
   "metadata": {},
   "outputs": [],
   "source": [
    "import pandas as pd\n",
    "import json\n",
    "import numpy as np\n",
    "from backend.data_processing import flatten_data, add_negative_samples_fast, to_triplets, filter_valid_data, convert_to_training_format\n",
    "import torch\n",
    "import torch.nn as nn\n",
    "import torch.nn.functional as F\n",
    "from torch.utils.data import Dataset, DataLoader\n",
    "from torch.nn.utils.rnn import pad_sequence\n",
    "import random\n",
    "\n",
    "# Load config\n",
    "with open('../backend/config.json', 'r') as f:\n",
    "    config = json.load(f)\n",
    "\n",
    "# Dataset paths\n",
    "datasets = {\n",
    "    'train': config['TRAIN_DATASET_PATH'],\n",
    "    'validation': config['VAL_DATASET_PATH'], \n",
    "    'test': config['TEST_DATASET_PATH']\n",
    "}"
   ]
  },
  {
   "cell_type": "markdown",
   "id": "cf147174",
   "metadata": {},
   "source": [
    "### **Step 2**: Process data to get triplets for train, validation and test datasets"
   ]
  },
  {
   "cell_type": "code",
   "execution_count": 2,
   "id": "e23d1f08",
   "metadata": {},
   "outputs": [
    {
     "name": "stdout",
     "output_type": "stream",
     "text": [
      "📊 SAMPLING CONFIGURATION:\n",
      "  Total samples to process: 50,000\n",
      "  Train split: 70% (35,000 samples)\n",
      "  Test split: 20% (10,000 samples)\n",
      "  Validation split: 10% (5,000 samples)\n",
      "\n",
      "Processing datasets to triplet format...\n",
      "==================================================\n",
      "\n",
      "📁 Processing TRAIN dataset (target: 35,000 samples)...\n",
      "Loading: ../data/ms_marco_train.parquet\n",
      "  Loaded: 808,731 samples\n",
      "  ✂️ Sampled down to: 35,000 samples\n",
      "  After filtering: 21,651 samples\n",
      "  🔄 Flattening data...\n",
      "  Flattened: 216,088 rows\n",
      "  ➕ Adding negative samples...\n",
      "  With negatives: 432,483 rows\n",
      "    - Positive: 215,973\n",
      "    - Negative: 216,510\n",
      "  🔄 Converting to triplets...\n",
      "  Final triplets: 216,510\n",
      "  Unique queries: 21651\n",
      "  ✅ TRAIN completed!\n",
      "\n",
      "📁 Processing VALIDATION dataset (target: 5,000 samples)...\n",
      "Loading: ../data/ms_marco_validation.parquet\n",
      "  Loaded: 101,093 samples\n",
      "  ✂️ Sampled down to: 5,000 samples\n",
      "  After filtering: 2,723 samples\n",
      "  🔄 Flattening data...\n",
      "  Flattened: 27,202 rows\n",
      "  ➕ Adding negative samples...\n",
      "  With negatives: 54,412 rows\n",
      "    - Positive: 27,182\n",
      "    - Negative: 27,230\n",
      "  🔄 Converting to triplets...\n",
      "  Final triplets: 27,230\n",
      "  Unique queries: 2723\n",
      "  ✅ VALIDATION completed!\n",
      "\n",
      "📁 Processing TEST dataset (target: 10,000 samples)...\n",
      "Loading: ../data/ms_marco_test.parquet\n",
      "  Loaded: 101,092 samples\n",
      "  ✂️ Sampled down to: 10,000 samples\n",
      "  After filtering: 10,000 samples\n",
      "  🔄 Flattening data...\n",
      "  Flattened: 99,836 rows\n",
      "  ➕ Adding negative samples...\n",
      "  With negatives: 199,773 rows\n",
      "    - Positive: 99,773\n",
      "    - Negative: 100,000\n",
      "  🔄 Converting to triplets...\n",
      "  Final triplets: 100,000\n",
      "  Unique queries: 10000\n",
      "  ✅ TEST completed!\n",
      "\n",
      "==================================================\n",
      "FINAL SUMMARY\n",
      "==================================================\n",
      "TRAIN: 216,510 triplets, 21,651 unique queries\n",
      "VALIDATION: 27,230 triplets, 2,723 unique queries\n",
      "TEST: 100,000 triplets, 10,000 unique queries\n",
      "\n",
      "🎯 TOTAL TRIPLETS: 343,740\n",
      "\n",
      "🎯 Sample triplet from train dataset:\n",
      "Query:  phosphates as food ingredients ...\n",
      "Positive: Call Us Toll-Free 1.800.578.6800. In many ways phosphates are unsung heroes of f...\n",
      "Negative: When the engine is hot, the clutch fan runs nearly as fast as the engine. When t...\n",
      "\n",
      "✅ All datasets processed! Results stored in 'results' dictionary.\n",
      "Access with: results['train'], results['validation'], results['test']\n"
     ]
    }
   ],
   "source": [
    "\n",
    "# Sampling configuration - modify these as needed\n",
    "print(f\"📊 SAMPLING CONFIGURATION:\")\n",
    "print(f\"  Total samples to process: {config['TOTAL_SAMPLES']:,}\")\n",
    "print(f\"  Train split: {config['TRAIN_SPLIT']*100:.0f}% ({int(config['TOTAL_SAMPLES']*config['TRAIN_SPLIT']):,} samples)\")\n",
    "print(f\"  Test split: {config['TEST_SPLIT']*100:.0f}% ({int(config['TOTAL_SAMPLES']*config['TEST_SPLIT']):,} samples)\")\n",
    "print(f\"  Validation split: {(1-config['TRAIN_SPLIT']-config['TEST_SPLIT'])*100:.0f}% ({int(config['TOTAL_SAMPLES']*(1-config['TRAIN_SPLIT']-config['TEST_SPLIT'])):,} samples)\")\n",
    "\n",
    "results = {}\n",
    "\n",
    "print(\"\\nProcessing datasets to triplet format...\")\n",
    "print(\"=\"*50)\n",
    "\n",
    "# Calculate samples per dataset\n",
    "samples_per_dataset = {\n",
    "    'train': int(config['TOTAL_SAMPLES'] * config['TRAIN_SPLIT']),\n",
    "    'test': int(config['TOTAL_SAMPLES'] * config['TEST_SPLIT']),\n",
    "    'validation': int(config['TOTAL_SAMPLES'] * (1 - config['TRAIN_SPLIT'] - config['TEST_SPLIT']))\n",
    "}\n",
    "\n",
    "for name, input_path in datasets.items():\n",
    "    target_samples = samples_per_dataset[name]\n",
    "    print(f\"\\n📁 Processing {name.upper()} dataset (target: {target_samples:,} samples)...\")\n",
    "    print(f\"Loading: {input_path}\")\n",
    "    \n",
    "    # Step 1: Load data\n",
    "    df = pd.read_parquet(input_path, engine='fastparquet')\n",
    "    print(f\"  Loaded: {len(df):,} samples\")\n",
    "    \n",
    "    # Step 2: Early sampling - cut here to save processing time\n",
    "    if len(df) > target_samples:\n",
    "        df = df.sample(n=target_samples, random_state=42).reset_index(drop=True)\n",
    "        print(f\"  ✂️ Sampled down to: {len(df):,} samples\")\n",
    "    \n",
    "    # Step 3: Filter valid data\n",
    "    df_filtered = filter_valid_data(df)\n",
    "    print(f\"  After filtering: {len(df_filtered):,} samples\")\n",
    "    \n",
    "    # Step 4: Flatten data (nested passages to flat rows)\n",
    "    print(\"  🔄 Flattening data...\")\n",
    "    flattened = flatten_data(df_filtered)\n",
    "    print(f\"  Flattened: {len(flattened):,} rows\")\n",
    "    \n",
    "    # Step 5: Add negative samples\n",
    "    print(\"  ➕ Adding negative samples...\")\n",
    "    with_negatives = add_negative_samples_fast(flattened)\n",
    "    print(f\"  With negatives: {len(with_negatives):,} rows\")\n",
    "    print(f\"    - Positive: {sum(with_negatives['passage_sign_de'] == 1):,}\")\n",
    "    print(f\"    - Negative: {sum(with_negatives['passage_sign_de'] == 0):,}\")\n",
    "    \n",
    "    # Step 6: Convert to triplets\n",
    "    print(\"  🔄 Converting to triplets...\")\n",
    "    triplets = to_triplets(with_negatives, triplets_per_query=10)\n",
    "    print(f\"  Final triplets: {len(triplets):,}\")\n",
    "    print(f\"  Unique queries: {triplets['query'].nunique()}\")\n",
    "    \n",
    "    # Store result\n",
    "    results[name] = triplets\n",
    "    print(f\"  ✅ {name.upper()} datasetcompleted!\")\n",
    "\n",
    "print(\"\\n\" + \"=\"*50)\n",
    "print(\"FINAL SUMMARY\")\n",
    "print(\"=\"*50)\n",
    "total_triplets = 0\n",
    "for name, triplets_df in results.items():\n",
    "    triplets_count = len(triplets_df)\n",
    "    total_triplets += triplets_count\n",
    "    print(f\"{name.upper()}: {triplets_count:,} triplets, {triplets_df['query'].nunique():,} unique queries\")\n",
    "\n",
    "print(f\"\\n🎯 TOTAL TRIPLETS: {total_triplets:,}\")\n",
    "\n",
    "print(\"\\n🎯 Sample triplet from train dataset:\")\n",
    "if 'train' in results and len(results['train']) > 0:\n",
    "    sample = results['train'].iloc[0]\n",
    "    print(f\"Query: {sample['query'][:80]}...\")\n",
    "    print(f\"Positive: {sample['positive_example'][:80]}...\")\n",
    "    print(f\"Negative: {sample['negative_example'][:80]}...\")\n",
    "\n",
    "print(\"\\n✅ All datasets processed! Results stored in 'results' dictionary.\")\n",
    "print(\"Access with: results['train'], results['validation'], results['test']\")"
   ]
  },
  {
   "cell_type": "markdown",
   "id": "4a44619a",
   "metadata": {},
   "source": [
    "### **Step 3**: Select sub-sample triplets for training, validation and testing"
   ]
  },
  {
   "cell_type": "code",
   "execution_count": 12,
   "id": "2b3c19fb",
   "metadata": {},
   "outputs": [
    {
     "name": "stdout",
     "output_type": "stream",
     "text": [
      "Sample training triplet:\n",
      "Query:  phosphates as food ingredients ...\n",
      "Positive: Call Us Toll-Free 1.800.578.6800. In many ways phosphates are unsung heroes of food ingredients and ...\n",
      "Negative: When the engine is hot, the clutch fan runs nearly as fast as the engine. When the engine is cold, t...\n",
      "\n",
      "Dataset sizes:\n",
      "  Training: 216,510 triplets\n",
      "  Validation: 27,230 triplets\n",
      "  Test: 100,000 triplets\n"
     ]
    }
   ],
   "source": [
    "from backend.data_processing import convert_to_training_format\n",
    "\n",
    "# Convert processed results to training format (no subsampling needed - already done!)\n",
    "train_data = convert_to_training_format(results['train'])\n",
    "val_data = convert_to_training_format(results['validation']) \n",
    "test_data = convert_to_training_format(results['test'])\n",
    "\n",
    "# Print sample to verify format\n",
    "print(\"Sample training triplet:\")\n",
    "print(f\"Query: {train_data[0][0][:100]}...\")\n",
    "print(f\"Positive: {train_data[0][1][:100]}...\")  \n",
    "print(f\"Negative: {train_data[0][2][:100]}...\")\n",
    "print(f\"\\nDataset sizes:\")\n",
    "print(f\"  Training: {len(train_data):,} triplets\")\n",
    "print(f\"  Validation: {len(val_data):,} triplets\")\n",
    "print(f\"  Test: {len(test_data):,} triplets\")\n",
    "\n",
    "# Use training data for the model\n",
    "data = train_data"
   ]
  },
  {
   "cell_type": "markdown",
   "id": "189e92a1",
   "metadata": {},
   "source": [
    "### **Step 4**: Select sub-sample triplets for training, validation and testing"
   ]
  },
  {
   "cell_type": "code",
   "execution_count": 13,
   "id": "0d19900c",
   "metadata": {},
   "outputs": [],
   "source": [
    "# --- Tokenizer and Vocab ---\n",
    "import pickle\n",
    "import numpy as np\n",
    "from collections import defaultdict\n",
    "from itertools import chain\n",
    "\n",
    "class PretrainedTokenizer:\n",
    "    def __init__(self, word_to_idx_path):\n",
    "        # Load pretrained word_to_idx mapping\n",
    "        with open(word_to_idx_path, 'rb') as f:\n",
    "            self.word2idx = pickle.load(f)\n",
    "        \n",
    "        print(f\"Loaded vocabulary with {len(self.word2idx):,} tokens\")\n",
    "\n",
    "    def encode(self, sentence):\n",
    "        # Only include words that exist in vocabulary, skip unknown words\n",
    "        return [self.word2idx[word.lower()] for word in sentence.split() if word.lower() in self.word2idx]\n",
    "\n",
    "    def vocab_size(self):\n",
    "        return len(self.word2idx)\n"
   ]
  },
  {
   "cell_type": "code",
   "execution_count": 14,
   "id": "eea44b18",
   "metadata": {},
   "outputs": [
    {
     "name": "stdout",
     "output_type": "stream",
     "text": [
      "Loaded vocabulary with 400,000 tokens\n"
     ]
    }
   ],
   "source": [
    "# Load pretrained tokenizer\n",
    "tokenizer = PretrainedTokenizer(config['WORD_TO_IDX_PATH'])"
   ]
  },
  {
   "cell_type": "code",
   "execution_count": 15,
   "id": "b3ba67ea",
   "metadata": {},
   "outputs": [],
   "source": [
    "# --- Dataset Class ---\n",
    "class TripletDataset(Dataset):\n",
    "    def __init__(self, data, tokenizer):\n",
    "        self.data = data\n",
    "        self.tokenizer = tokenizer\n",
    "\n",
    "    def __len__(self):\n",
    "        return len(self.data)\n",
    "\n",
    "    def __getitem__(self, idx):\n",
    "        query, pos_doc, neg_doc = self.data[idx]\n",
    "        return (torch.tensor(self.tokenizer.encode(query)),\n",
    "                torch.tensor(self.tokenizer.encode(pos_doc)),\n",
    "                torch.tensor(self.tokenizer.encode(neg_doc)))"
   ]
  },
  {
   "cell_type": "code",
   "execution_count": 16,
   "id": "7a26ea8b",
   "metadata": {},
   "outputs": [],
   "source": [
    "# --- Collate Function ---\n",
    "def collate_fn(batch):\n",
    "    queries, pos_docs, neg_docs = zip(*batch)\n",
    "    return (\n",
    "        pad_sequence(queries, batch_first=True),\n",
    "        pad_sequence(pos_docs, batch_first=True),\n",
    "        pad_sequence(neg_docs, batch_first=True)\n",
    "    )"
   ]
  },
  {
   "cell_type": "code",
   "execution_count": 17,
   "id": "800f97dc",
   "metadata": {},
   "outputs": [],
   "source": [
    "# --- Dual RNN Encoder Model ---\n",
    "class RNNEncoder(nn.Module):\n",
    "    def __init__(self, vocab_size, embed_dim, hidden_dim, pretrained_embeddings=None):\n",
    "        super().__init__()\n",
    "        self.embedding = nn.Embedding(vocab_size, embed_dim, padding_idx=0)\n",
    "        \n",
    "        # Load pretrained embeddings if provided\n",
    "        if pretrained_embeddings is not None:\n",
    "            self.embedding.weight.data.copy_(torch.from_numpy(pretrained_embeddings))\n",
    "            # Keep embeddings trainable (they are by default)\n",
    "            \n",
    "        self.rnn = nn.GRU(embed_dim, hidden_dim, batch_first=True)\n",
    "\n",
    "    def forward(self, x):\n",
    "        x = self.embedding(x)\n",
    "        _, h_n = self.rnn(x)\n",
    "        return h_n.squeeze(0)  # shape: (batch, hidden_dim)"
   ]
  },
  {
   "cell_type": "code",
   "execution_count": 18,
   "id": "23204e3f",
   "metadata": {},
   "outputs": [],
   "source": [
    "# --- Triplet Loss Function ---\n",
    "def triplet_loss_function(triplet, distance_function, margin):\n",
    "    query, pos_doc, neg_doc = triplet\n",
    "    d_pos = distance_function(query, pos_doc)\n",
    "    d_neg = distance_function(query, neg_doc)\n",
    "    return torch.clamp(d_pos - d_neg + margin, min=0.0).mean()\n"
   ]
  },
  {
   "cell_type": "code",
   "execution_count": 19,
   "id": "2b53d060",
   "metadata": {},
   "outputs": [
    {
     "name": "stdout",
     "output_type": "stream",
     "text": [
      "Loaded pretrained embeddings: (400000, 200)\n",
      "Vocabulary size: 400000\n",
      "Embedding dimension: 200\n"
     ]
    }
   ],
   "source": [
    "# --- Training Setup ---\n",
    "VOCAB_SIZE = tokenizer.vocab_size()\n",
    "\n",
    "# Load pretrained embeddings\n",
    "pretrained_embeddings = np.load(config['EMBEDDINGS_PATH'])\n",
    "EMBED_DIM = pretrained_embeddings.shape[1]  # Get embedding dimension from loaded embeddings\n",
    "\n",
    "print(f\"Loaded pretrained embeddings: {pretrained_embeddings.shape}\")\n",
    "print(f\"Vocabulary size: {VOCAB_SIZE}\")\n",
    "print(f\"Embedding dimension: {EMBED_DIM}\")\n",
    "\n",
    "# Initialize encoders with pretrained embeddings\n",
    "query_encoder = RNNEncoder(VOCAB_SIZE, EMBED_DIM, config['HIDDEN_DIM'], pretrained_embeddings)\n",
    "doc_encoder = RNNEncoder(VOCAB_SIZE, EMBED_DIM, config['HIDDEN_DIM'], pretrained_embeddings)\n",
    "\n",
    "optimizer = torch.optim.Adam(list(query_encoder.parameters()) + list(doc_encoder.parameters()), lr=config['LR'])\n",
    "dataset = TripletDataset(data, tokenizer)\n",
    "dataloader = DataLoader(dataset, batch_size=config['BATCH_SIZE'], shuffle=True, collate_fn=collate_fn)"
   ]
  },
  {
   "cell_type": "code",
   "execution_count": null,
   "id": "2ea93713",
   "metadata": {},
   "outputs": [],
   "source": [
    "# --- Training Loop ---\n",
    "for epoch in range(config['EPOCHS']):\n",
    "    total_loss = 0\n",
    "    for query_batch, pos_batch, neg_batch in dataloader:\n",
    "        q_vec = query_encoder(query_batch)\n",
    "        pos_vec = doc_encoder(pos_batch)\n",
    "        neg_vec = doc_encoder(neg_batch)\n",
    "\n",
    "        loss = triplet_loss_function((q_vec, pos_vec, neg_vec), F.pairwise_distance, config['MARGIN'])\n",
    "\n",
    "        optimizer.zero_grad()\n",
    "        loss.backward()\n",
    "        optimizer.step()\n",
    "\n",
    "        total_loss += loss.item()\n",
    "    print(f\"Epoch {epoch+1}, Loss: {total_loss:.4f}\")"
   ]
  },
  {
   "cell_type": "code",
   "execution_count": 11,
   "id": "e1362865",
   "metadata": {},
   "outputs": [],
   "source": [
    "# --- Inference Function ---\n",
    "def search(query_text, documents, tokenizer, query_encoder, doc_encoder):\n",
    "    with torch.no_grad():\n",
    "        query_tensor = pad_sequence([torch.tensor(tokenizer.encode(query_text))], batch_first=True)\n",
    "        query_vec = query_encoder(query_tensor)\n",
    "\n",
    "        doc_tensors = pad_sequence([torch.tensor(tokenizer.encode(doc)) for doc in documents], batch_first=True)\n",
    "        doc_vecs = doc_encoder(doc_tensors)\n",
    "\n",
    "        scores = F.cosine_similarity(query_vec, doc_vecs)\n",
    "        top_indices = torch.argsort(scores, descending=True)\n",
    "        return [(documents[i], scores[i].item()) for i in top_indices]"
   ]
  },
  {
   "cell_type": "code",
   "execution_count": null,
   "id": "e338c56f",
   "metadata": {},
   "outputs": [],
   "source": [
    "# --- Example Usage ---\n",
    "documents = [\"deep learning applications\", \"banana smoothie\", \"introduction to ai\", \"machine learning in banking\"]\n",
    "results = search(\"what is ai\", documents, tokenizer, query_encoder, doc_encoder)\n",
    "\n",
    "print(\"\\nSearch results:\")\n",
    "for doc, score in results:\n",
    "    print(f\"{doc} (score: {score:.4f})\")\n"
   ]
  },
  {
   "cell_type": "code",
   "execution_count": null,
   "id": "448019c7",
   "metadata": {},
   "outputs": [],
   "source": []
  }
 ],
 "metadata": {
  "kernelspec": {
   "display_name": "Python 3",
   "language": "python",
   "name": "python3"
  },
  "language_info": {
   "codemirror_mode": {
    "name": "ipython",
    "version": 3
   },
   "file_extension": ".py",
   "mimetype": "text/x-python",
   "name": "python",
   "nbconvert_exporter": "python",
   "pygments_lexer": "ipython3",
   "version": "3.10.17"
  }
 },
 "nbformat": 4,
 "nbformat_minor": 5
}
