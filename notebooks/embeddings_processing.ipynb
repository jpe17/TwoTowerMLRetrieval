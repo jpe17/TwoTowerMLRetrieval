{
 "cells": [
  {
   "cell_type": "markdown",
   "metadata": {},
   "source": [
    "# Download glove embeddings"
   ]
  },
  {
   "cell_type": "code",
   "execution_count": 10,
   "metadata": {},
   "outputs": [
    {
     "name": "stdout",
     "output_type": "stream",
     "text": [
      "Trying to open: ../data/glove.6B.200d.txt\n",
      "Saved embeddings to ../data//embeddings.npy and word_to_idx to ../data//word_to_idx.pkl\n"
     ]
    }
   ],
   "source": [
    "import numpy as np\n",
    "import pickle\n",
    "import os\n",
    "\n",
    "def convert_glove_to_embeddings(glove_file, output_dir):\n",
    "    # Create output directory if it doesn't exist\n",
    "    os.makedirs(output_dir, exist_ok=True)\n",
    "\n",
    "    word_to_idx = {}\n",
    "    embeddings = []\n",
    "\n",
    "    # Print the file path for debugging\n",
    "    print(f\"Trying to open: {glove_file}\")\n",
    "\n",
    "    try:\n",
    "        with open(glove_file, 'r', encoding='utf-8') as f:\n",
    "            for idx, line in enumerate(f):\n",
    "                values = line.split()\n",
    "                word = values[0]\n",
    "                vector = np.array(values[1:], dtype='float32')\n",
    "                word_to_idx[word] = idx\n",
    "                embeddings.append(vector)\n",
    "\n",
    "        # Convert embeddings list to a NumPy array\n",
    "        embeddings = np.array(embeddings)\n",
    "\n",
    "        # Save the embeddings and word_to_idx\n",
    "        np.save(os.path.join(output_dir, 'embeddings.npy'), embeddings)\n",
    "        with open(os.path.join(output_dir, 'word_to_idx.pkl'), 'wb') as f:\n",
    "            pickle.dump(word_to_idx, f)\n",
    "\n",
    "        print(f\"Saved embeddings to {output_dir}/embeddings.npy and word_to_idx to {output_dir}/word_to_idx.pkl\")\n",
    "    \n",
    "    except FileNotFoundError as e:\n",
    "        print(f\"Error: {e}\")\n",
    "\n",
    "# Example usage\n",
    "convert_glove_to_embeddings('../data/glove.6B.200d.txt', '../data/')"
   ]
  }
 ],
 "metadata": {
  "kernelspec": {
   "display_name": "Python 3",
   "language": "python",
   "name": "python3"
  },
  "language_info": {
   "codemirror_mode": {
    "name": "ipython",
    "version": 3
   },
   "file_extension": ".py",
   "mimetype": "text/x-python",
   "name": "python",
   "nbconvert_exporter": "python",
   "pygments_lexer": "ipython3",
   "version": "3.10.17"
  }
 },
 "nbformat": 4,
 "nbformat_minor": 2
}
