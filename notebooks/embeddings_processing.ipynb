{
 "cells": [
  {
   "cell_type": "markdown",
   "metadata": {},
   "source": [
    "# Download glove embeddings"
   ]
  },
  {
   "cell_type": "code",
   "execution_count": 16,
   "metadata": {},
   "outputs": [
    {
     "name": "stderr",
     "output_type": "stream",
     "text": [
      "Repo card metadata block was not found. Setting CardData to empty.\n",
      "Processing: 100%|██████████| 400000/400000 [00:11<00:00, 35525.79it/s]\n"
     ]
    },
    {
     "name": "stdout",
     "output_type": "stream",
     "text": [
      "Saved embeddings to ../data//embeddings.npy and word_to_idx to ../data//word_to_idx.pkl\n"
     ]
    }
   ],
   "source": [
    "from datasets import load_dataset\n",
    "import numpy as np\n",
    "import pickle\n",
    "import os\n",
    "from tqdm import tqdm\n",
    "\n",
    "def convert_glove_to_embeddings(output_dir):\n",
    "    # Create output directory if it doesn't exist\n",
    "    os.makedirs(output_dir, exist_ok=True)\n",
    "\n",
    "    word_to_idx = {}\n",
    "    embeddings = []\n",
    "\n",
    "    # Load Glove embeddings\n",
    "    dataset = load_dataset(\"SLU-CSCI4750/glove.6B.100d.txt\", split=\"train\")  # or \"crawl\", \"100d\"\n",
    "   \n",
    "    # Convert Glove embeddings to embeddings and word_to_idx\n",
    "    for idx, item in tqdm(enumerate(dataset), total=len(dataset), desc=\"Processing\"):\n",
    "        array = item['text'].split()\n",
    "        word = array[0]\n",
    "        vector = np.array([float(x) for x in array[1:]])\n",
    "        word_to_idx[word] = idx\n",
    "        embeddings.append(vector)\n",
    "\n",
    "    embeddings = np.array(embeddings)\n",
    "\n",
    "    # Save the embeddings and word_to_idx\n",
    "    np.save(os.path.join(output_dir, 'embeddings.npy'), embeddings)\n",
    "    with open(os.path.join(output_dir, 'word_to_idx.pkl'), 'wb') as f:\n",
    "        pickle.dump(word_to_idx, f)\n",
    "\n",
    "    print(f\"Saved embeddings to {output_dir}/embeddings.npy and word_to_idx to {output_dir}/word_to_idx.pkl\")\n",
    "    \n",
    "# Example usage\n",
    "convert_glove_to_embeddings('../data/')"
   ]
  }
 ],
 "metadata": {
  "kernelspec": {
   "display_name": "venv",
   "language": "python",
   "name": "python3"
  },
  "language_info": {
   "codemirror_mode": {
    "name": "ipython",
    "version": 3
   },
   "file_extension": ".py",
   "mimetype": "text/x-python",
   "name": "python",
   "nbconvert_exporter": "python",
   "pygments_lexer": "ipython3",
   "version": "3.13.5"
  }
 },
 "nbformat": 4,
 "nbformat_minor": 2
}
