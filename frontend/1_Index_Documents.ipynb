{
 "cells": [
  {
   "cell_type": "markdown",
   "metadata": {},
   "source": [
    "## 1. Setup and Configuration"
   ]
  },
  {
   "cell_type": "code",
   "execution_count": 1,
   "metadata": {},
   "outputs": [],
   "source": [
    "import chromadb\n",
    "import pickle\n",
    "import numpy as np\n",
    "from tqdm import tqdm\n",
    "from pathlib import Path"
   ]
  },
  {
   "cell_type": "code",
   "execution_count": 2,
   "metadata": {},
   "outputs": [],
   "source": [
    "# --- IMPORTANT: CONFIGURE THIS PATH ---\n",
    "# Point this to the latest run directory created by the training script.\n",
    "# Example: ARTIFACTS_PATH = \"../backend/artifacts/run_20240101_120000\"\n",
    "ARTIFACTS_PATH = \"../artifacts/run-20250619_212044\" # 👈 CHANGE THIS\n",
    "\n",
    "CHROMA_STORE_PATH = \"./chroma_store\"\n",
    "COLLECTION_NAME = \"docs\""
   ]
  },
  {
   "cell_type": "markdown",
   "metadata": {},
   "source": [
    "## 2. Load Artifacts"
   ]
  },
  {
   "cell_type": "code",
   "execution_count": 3,
   "metadata": {},
   "outputs": [
    {
     "name": "stdout",
     "output_type": "stream",
     "text": [
      "Loaded 18679 documents and 18679 embeddings.\n"
     ]
    }
   ],
   "source": [
    "artifacts = Path(ARTIFACTS_PATH)\n",
    "\n",
    "if not artifacts.exists():\n",
    "    raise FileNotFoundError(f\"Artifacts directory not found at {ARTIFACTS_PATH}. Please run the backend training script first.\")\n",
    "\n",
    "# Load documents\n",
    "with open(artifacts / 'documents.pkl', 'rb') as f:\n",
    "    documents = pickle.load(f)\n",
    "\n",
    "# Load embeddings\n",
    "embeddings = np.load(artifacts / 'document_embeddings.npy')\n",
    "\n",
    "print(f\"Loaded {len(documents)} documents and {embeddings.shape[0]} embeddings.\")"
   ]
  },
  {
   "cell_type": "markdown",
   "metadata": {},
   "source": [
    "## 3. Setup ChromaDB and Index Documents"
   ]
  },
  {
   "cell_type": "code",
   "execution_count": 4,
   "metadata": {},
   "outputs": [
    {
     "name": "stdout",
     "output_type": "stream",
     "text": [
      "Created new collection: 'docs'\n"
     ]
    }
   ],
   "source": [
    "client = chromadb.PersistentClient(path=CHROMA_STORE_PATH)\n",
    "\n",
    "# Delete the collection if it already exists to ensure a fresh start\n",
    "if COLLECTION_NAME in [c.name for c in client.list_collections()]:\n",
    "    print(f\"Collection '{COLLECTION_NAME}' already exists. Deleting it.\")\n",
    "    client.delete_collection(name=COLLECTION_NAME)\n",
    "\n",
    "collection = client.get_or_create_collection(name=COLLECTION_NAME)\n",
    "print(f\"Created new collection: '{COLLECTION_NAME}'\")"
   ]
  },
  {
   "cell_type": "code",
   "execution_count": 5,
   "metadata": {},
   "outputs": [
    {
     "name": "stderr",
     "output_type": "stream",
     "text": [
      "100%|██████████| 38/38 [00:07<00:00,  4.95it/s]"
     ]
    },
    {
     "name": "stdout",
     "output_type": "stream",
     "text": [
      "\n",
      "✅ Successfully indexed 18679 documents into ChromaDB.\n"
     ]
    },
    {
     "name": "stderr",
     "output_type": "stream",
     "text": [
      "\n"
     ]
    }
   ],
   "source": [
    "batch_size = 500\n",
    "num_docs = len(documents)\n",
    "\n",
    "for i in tqdm(range(0, num_docs, batch_size)):\n",
    "    batch_end = min(i + batch_size, num_docs)\n",
    "    \n",
    "    batch_docs = documents[i:batch_end]\n",
    "    batch_embeddings = embeddings[i:batch_end]\n",
    "    batch_ids = [f\"doc_{j}\" for j in range(i, batch_end)]\n",
    "    \n",
    "    collection.add(\n",
    "        ids=batch_ids,\n",
    "        documents=batch_docs,\n",
    "        embeddings=batch_embeddings.tolist()\n",
    "    )\n",
    "\n",
    "print(f\"\\n✅ Successfully indexed {collection.count()} documents into ChromaDB.\")"
   ]
  },
  {
   "cell_type": "markdown",
   "metadata": {},
   "source": [
    "## 4. (Optional) Test Query"
   ]
  },
  {
   "cell_type": "code",
   "execution_count": 6,
   "metadata": {},
   "outputs": [
    {
     "name": "stdout",
     "output_type": "stream",
     "text": [
      "Querying with the first document as an example:\n",
      "This is what pigments do. The light they absorb contains' just the right amount' of energy necessary to push them into the next level. Any light that does not have enough or has too much energy can not be absorbed and is reflected. The electron in the higher energy level, however, does not 'want' to stay there(i.e.\n",
      "\n",
      "Results:\n",
      "  - This is what pigments do. The light they absorb contains' just the right amount' of energy necessary...\n",
      "  - It is very important to note that grinding the beans instantly raises the surface area to enable a m...\n",
      "  - What should I eat if I have acid reflux? Gastroesophageal reflux disease (commonly referred to as GE...\n",
      "  - There is no doubt yeast infections are unpleasant. The severity of symptoms like itching, burning, r...\n",
      "  - “Hair will typically grow within a 4 week period, that being said, brows definitely can and will gro...\n"
     ]
    }
   ],
   "source": [
    "# This is a simple test and does not use the trained query encoder.\n",
    "# It finds documents similar to the embedding of another document.\n",
    "results = collection.query(\n",
    "    query_embeddings=[embeddings[0].tolist()],\n",
    "    n_results=5\n",
    ")\n",
    "\n",
    "print(\"Querying with the first document as an example:\")\n",
    "print(documents[0])\n",
    "print(\"\\nResults:\")\n",
    "for doc in results['documents'][0]:\n",
    "    print(f\"  - {doc[:100]}...\")"
   ]
  },
  {
   "cell_type": "code",
   "execution_count": null,
   "metadata": {},
   "outputs": [],
   "source": []
  }
 ],
 "metadata": {
  "kernelspec": {
   "display_name": "venv",
   "language": "python",
   "name": "python3"
  },
  "language_info": {
   "codemirror_mode": {
    "name": "ipython",
    "version": 3
   },
   "file_extension": ".py",
   "mimetype": "text/x-python",
   "name": "python",
   "nbconvert_exporter": "python",
   "pygments_lexer": "ipython3",
   "version": "3.13.5"
  }
 },
 "nbformat": 4,
 "nbformat_minor": 2
}
