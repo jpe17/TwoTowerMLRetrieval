{
 "cells": [
  {
   "cell_type": "code",
   "execution_count": 1,
   "id": "da8ad13b",
   "metadata": {},
   "outputs": [],
   "source": [
    "import chromadb\n",
    "from chromadb.config import Settings\n",
    "import pickle\n",
    "import numpy as np\n",
    "from tqdm import tqdm"
   ]
  },
  {
   "cell_type": "code",
   "execution_count": 2,
   "id": "8fcead70-ea75-4480-90a5-2a28d1adf256",
   "metadata": {},
   "outputs": [],
   "source": [
    "with open('../data/doc_to_idx.pkl', 'rb') as f:\n",
    "    passages = pickle.load(f)"
   ]
  },
  {
   "cell_type": "code",
   "execution_count": 3,
   "id": "36d10070-ac42-46ad-8a23-1d61ec2f337c",
   "metadata": {},
   "outputs": [
    {
     "name": "stdout",
     "output_type": "stream",
     "text": [
      "<class 'dict'>\n"
     ]
    }
   ],
   "source": [
    "print(type(passages))"
   ]
  },
  {
   "cell_type": "code",
   "execution_count": 4,
   "id": "e23d8b0b-51f5-4d0c-8cb9-e6c850d07416",
   "metadata": {},
   "outputs": [
    {
     "name": "stdout",
     "output_type": "stream",
     "text": [
      "Top-level keys (sample): ['Property Taxes & Public Education Funding: Inequality in the System Joshua R. Berry April 29, 2011 Final Project Essay – Final Draft URP 6542 – Urban Land Economics The Complex Issues of Public School Funding From its inception, the United States and its citizenry have placed tremendous importance on the education of its youth.']\n"
     ]
    }
   ],
   "source": [
    "print(\"Top-level keys (sample):\", list(passages.keys())[:1])\n"
   ]
  },
  {
   "cell_type": "code",
   "execution_count": 5,
   "id": "55872d91-1644-4bf8-a5ec-53c6b49785bc",
   "metadata": {},
   "outputs": [],
   "source": [
    "embeddings = np.load('../data/document_embeddings.npy', allow_pickle=True)"
   ]
  },
  {
   "cell_type": "code",
   "execution_count": 6,
   "id": "99c30fbc-3a27-40ad-90b3-d015f7bd9a5a",
   "metadata": {},
   "outputs": [
    {
     "name": "stdout",
     "output_type": "stream",
     "text": [
      "<class 'numpy.ndarray'>\n",
      "Shape: (93270, 256)\n"
     ]
    }
   ],
   "source": [
    "print(type(embeddings))\n",
    "print(\"Shape:\", embeddings.shape)"
   ]
  },
  {
   "cell_type": "code",
   "execution_count": 7,
   "id": "e84755b8-441b-43a3-b926-a7c83d7f3ad8",
   "metadata": {},
   "outputs": [],
   "source": [
    "# Setup ChromaDB\n",
    "# Create a persistent ChromaDB client\n",
    "client = chromadb.PersistentClient(path=\"./chroma_store\")  # Your desired folder\n",
    "\n",
    "# Check if 'docs' exists before deleting\n",
    "existing_collections = [col.name for col in client.list_collections()]\n",
    "if \"docs\" in existing_collections:\n",
    "    client.delete_collection(\"docs\")\n",
    "    \n",
    "# Create or load a collection\n",
    "collection = client.get_or_create_collection(\"docs\")\n"
   ]
  },
  {
   "cell_type": "code",
   "execution_count": null,
   "id": "f1d1a86b-3985-4732-8c67-b03b44f6225e",
   "metadata": {},
   "outputs": [],
   "source": [
    "for i, (passage, embedding) in tqdm(enumerate(zip(passages, embeddings)), total=len(passages)):\n",
    "    #print(f\"Index {i}: {passage} -> {embedding}\")\n",
    "\n",
    "    collection.add(\n",
    "        ids=[f\"doc_{i}\"],  # must be a list of strings\n",
    "        documents=[passage],  # list of 1 document\n",
    "        embeddings=[embedding.tolist()]  # list of 1 embedding\n",
    "    )\n",
    "    \n",
    "    #Optional: pause to avoid flooding Jupyter\n",
    "    # if i >= 2000:  #during dev\n",
    "    #     break\n"
   ]
  },
  {
   "cell_type": "code",
   "execution_count": 9,
   "id": "3d58acf2-6754-4c18-bb3a-ee82130b671a",
   "metadata": {},
   "outputs": [
    {
     "name": "stdout",
     "output_type": "stream",
     "text": [
      "Number of entries in the collection: 93270\n"
     ]
    }
   ],
   "source": [
    "count = collection.count()\n",
    "print(f\"Number of entries in the collection: {count}\")"
   ]
  },
  {
   "cell_type": "code",
   "execution_count": 10,
   "id": "a1d30503-40ad-4515-b30d-ccf216630cbb",
   "metadata": {},
   "outputs": [
    {
     "name": "stdout",
     "output_type": "stream",
     "text": [
      "0: ID = doc_0\n",
      "   Document: Property Taxes & Public Education Funding: Inequality in the System Joshua R. Berry April 29, 2011 Final Project Essay – Final Draft URP 6542 – Urban Land Economics The Complex Issues of Public School Funding From its inception, the United States and its citizenry have placed tremendous importance on the education of its youth.\n",
      "   Embedding (first 5 dims): [ 0.03073787  0.00905132  0.12641057 -0.03313518  0.03842032]\n",
      "1: ID = doc_1\n",
      "   Document: Dry rot is the term given to brown rot decay caused by certain fungi that deteriorate timber in buildings and other wooden construction without an apparent source of moisture. The term is a misnomer because all wood decaying fungi need a minimum amount of moisture before decay begins.\n",
      "   Embedding (first 5 dims): [ 0.01729996  0.0087871   0.12702529 -0.01890628  0.04625144]\n",
      "2: ID = doc_2\n",
      "   Document: How much does ABS Light is on Inspection cost? It depends on the type of car you drive and the auto repair shop you go to. Our mechanics are mobile, which means they don't have the overhead that repair shops have. They provide you convenience by coming to your home or office.\n",
      "   Embedding (first 5 dims): [ 0.02148647  0.00745743  0.12569954 -0.01820121  0.04545136]\n",
      "3: ID = doc_3\n",
      "   Document: First rule out Nimda. The first item to rule out if you have “resource” and “insufficient memory” errors is the Nimda virus. One of the files it attacks is Riched20.dll. This file is used by Microsoft Word for Rich Text; and of course, without this file, Word cannot run properly.\n",
      "   Embedding (first 5 dims): [ 0.0195167   0.00638607  0.12424928 -0.01464504  0.04669433]\n",
      "4: ID = doc_4\n",
      "   Document: 1 Levodopa is extremely effective in improving bradykinesia in Parkinson’s disease but it is advisable to delay initial treatment with levodopa until there is significant disability. 2  Amantadine has a mild, short-lived effect and may be used in the early stages.\n",
      "   Embedding (first 5 dims): [ 0.02207614  0.00761173  0.12559599 -0.0208172   0.04428998]\n"
     ]
    }
   ],
   "source": [
    "# results = collection.get(include=['documents','embeddings'])\n",
    "\n",
    "# for i in range(min(5, len(results['ids']))):\n",
    "#     print(f\"{i}: ID = {results['ids'][i]}\")\n",
    "#     print(f\"   Document: {results['documents'][i]}\")\n",
    "#     # Optional: show part of the embedding\n",
    "#     print(f\"   Embedding (first 5 dims): {results['embeddings'][i][:5]}\")\n",
    "\n"
   ]
  }
 ],
 "metadata": {
  "kernelspec": {
   "display_name": "Python [conda env:base] *",
   "language": "python",
   "name": "conda-base-py"
  },
  "language_info": {
   "codemirror_mode": {
    "name": "ipython",
    "version": 3
   },
   "file_extension": ".py",
   "mimetype": "text/x-python",
   "name": "python",
   "nbconvert_exporter": "python",
   "pygments_lexer": "ipython3",
   "version": "3.12.7"
  }
 },
 "nbformat": 4,
 "nbformat_minor": 5
}
