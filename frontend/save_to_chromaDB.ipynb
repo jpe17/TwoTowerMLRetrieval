{
 "cells": [
  {
   "cell_type": "markdown",
   "metadata": {},
   "source": [
    "## 1. Setup and Configuration"
   ]
  },
  {
   "cell_type": "code",
   "execution_count": 19,
   "metadata": {},
   "outputs": [],
   "source": [
    "import chromadb\n",
    "import pickle\n",
    "import numpy as np\n",
    "from tqdm import tqdm\n",
    "from pathlib import Path\n",
    "import json\n",
    "\n",
    "def load_config(path: str):\n",
    "    \"\"\"Loads a JSON config file.\"\"\"\n",
    "    with open(path, 'r') as f:\n",
    "        return json.load(f)\n",
    "\n",
    "config = load_config('../frontend/config.json')"
   ]
  },
  {
   "cell_type": "code",
   "execution_count": 20,
   "metadata": {},
   "outputs": [
    {
     "name": "stdout",
     "output_type": "stream",
     "text": [
      "Loading artifacts from:  artifacts/run-20250619_232020\n"
     ]
    }
   ],
   "source": [
    "# --- IMPORTANT: CONFIGURE THIS PATH ---\n",
    "# Point this to the latest run directory created by the training script.\n",
    "# Example: ARTIFACTS_PATH = \"../backend/artifacts/run_20240101_120000\"\n",
    "\n",
    "ARTIFACTS_PATH = config['ARTIFACTS_PATH']\n",
    "print(\"Loading artifacts from: \", ARTIFACTS_PATH)\n",
    "CHROMA_STORE_PATH = \"./chroma_store\"\n",
    "COLLECTION_NAME = \"docs\""
   ]
  },
  {
   "cell_type": "markdown",
   "metadata": {},
   "source": [
    "## 2. Load Artifacts"
   ]
  },
  {
   "cell_type": "code",
   "execution_count": 21,
   "metadata": {},
   "outputs": [
    {
     "name": "stdout",
     "output_type": "stream",
     "text": [
      "Loaded 185828 documents and 185828 embeddings.\n"
     ]
    }
   ],
   "source": [
    "artifacts = Path('../' + ARTIFACTS_PATH)\n",
    "\n",
    "if not artifacts.exists():\n",
    "    raise FileNotFoundError(f\"Artifacts directory not found at {ARTIFACTS_PATH}. Please run the backend training script first.\")\n",
    "\n",
    "# Load documents\n",
    "with open(artifacts / 'documents.pkl', 'rb') as f:\n",
    "    documents = pickle.load(f)\n",
    "\n",
    "# Load embeddings\n",
    "embeddings = np.load(artifacts / 'document_embeddings.npy')\n",
    "\n",
    "print(f\"Loaded {len(documents)} documents and {embeddings.shape[0]} embeddings.\")"
   ]
  },
  {
   "cell_type": "markdown",
   "metadata": {},
   "source": [
    "## 3. Setup ChromaDB and Index Documents"
   ]
  },
  {
   "cell_type": "code",
   "execution_count": 22,
   "metadata": {},
   "outputs": [
    {
     "name": "stdout",
     "output_type": "stream",
     "text": [
      "Collection 'docs' already exists. Deleting it.\n"
     ]
    },
    {
     "ename": "InternalError",
     "evalue": "Database error: error returned from database: (code: 1032) attempt to write a readonly database",
     "output_type": "error",
     "traceback": [
      "\u001b[31m---------------------------------------------------------------------------\u001b[39m",
      "\u001b[31mInternalError\u001b[39m                             Traceback (most recent call last)",
      "\u001b[36mCell\u001b[39m\u001b[36m \u001b[39m\u001b[32mIn[22]\u001b[39m\u001b[32m, line 6\u001b[39m\n\u001b[32m      4\u001b[39m \u001b[38;5;28;01mif\u001b[39;00m COLLECTION_NAME \u001b[38;5;129;01min\u001b[39;00m [c.name \u001b[38;5;28;01mfor\u001b[39;00m c \u001b[38;5;129;01min\u001b[39;00m client.list_collections()]:\n\u001b[32m      5\u001b[39m     \u001b[38;5;28mprint\u001b[39m(\u001b[33mf\u001b[39m\u001b[33m\"\u001b[39m\u001b[33mCollection \u001b[39m\u001b[33m'\u001b[39m\u001b[38;5;132;01m{\u001b[39;00mCOLLECTION_NAME\u001b[38;5;132;01m}\u001b[39;00m\u001b[33m'\u001b[39m\u001b[33m already exists. Deleting it.\u001b[39m\u001b[33m\"\u001b[39m)\n\u001b[32m----> \u001b[39m\u001b[32m6\u001b[39m     \u001b[43mclient\u001b[49m\u001b[43m.\u001b[49m\u001b[43mdelete_collection\u001b[49m\u001b[43m(\u001b[49m\u001b[43mname\u001b[49m\u001b[43m=\u001b[49m\u001b[43mCOLLECTION_NAME\u001b[49m\u001b[43m)\u001b[49m\n\u001b[32m      8\u001b[39m collection = client.get_or_create_collection(name=COLLECTION_NAME)\n\u001b[32m      9\u001b[39m \u001b[38;5;28mprint\u001b[39m(\u001b[33mf\u001b[39m\u001b[33m\"\u001b[39m\u001b[33mCreated new collection: \u001b[39m\u001b[33m'\u001b[39m\u001b[38;5;132;01m{\u001b[39;00mCOLLECTION_NAME\u001b[38;5;132;01m}\u001b[39;00m\u001b[33m'\u001b[39m\u001b[33m\"\u001b[39m)\n",
      "\u001b[36mFile \u001b[39m\u001b[32m~/mli/TwoTowerMLRetrieval/venv/lib/python3.13/site-packages/chromadb/api/client.py:275\u001b[39m, in \u001b[36mClient.delete_collection\u001b[39m\u001b[34m(self, name)\u001b[39m\n\u001b[32m    270\u001b[39m \u001b[38;5;129m@override\u001b[39m\n\u001b[32m    271\u001b[39m \u001b[38;5;28;01mdef\u001b[39;00m\u001b[38;5;250m \u001b[39m\u001b[34mdelete_collection\u001b[39m(\n\u001b[32m    272\u001b[39m     \u001b[38;5;28mself\u001b[39m,\n\u001b[32m    273\u001b[39m     name: \u001b[38;5;28mstr\u001b[39m,\n\u001b[32m    274\u001b[39m ) -> \u001b[38;5;28;01mNone\u001b[39;00m:\n\u001b[32m--> \u001b[39m\u001b[32m275\u001b[39m     \u001b[38;5;28;01mreturn\u001b[39;00m \u001b[38;5;28;43mself\u001b[39;49m\u001b[43m.\u001b[49m\u001b[43m_server\u001b[49m\u001b[43m.\u001b[49m\u001b[43mdelete_collection\u001b[49m\u001b[43m(\u001b[49m\n\u001b[32m    276\u001b[39m \u001b[43m        \u001b[49m\u001b[43mname\u001b[49m\u001b[43m=\u001b[49m\u001b[43mname\u001b[49m\u001b[43m,\u001b[49m\n\u001b[32m    277\u001b[39m \u001b[43m        \u001b[49m\u001b[43mtenant\u001b[49m\u001b[43m=\u001b[49m\u001b[38;5;28;43mself\u001b[39;49m\u001b[43m.\u001b[49m\u001b[43mtenant\u001b[49m\u001b[43m,\u001b[49m\n\u001b[32m    278\u001b[39m \u001b[43m        \u001b[49m\u001b[43mdatabase\u001b[49m\u001b[43m=\u001b[49m\u001b[38;5;28;43mself\u001b[39;49m\u001b[43m.\u001b[49m\u001b[43mdatabase\u001b[49m\u001b[43m,\u001b[49m\n\u001b[32m    279\u001b[39m \u001b[43m    \u001b[49m\u001b[43m)\u001b[49m\n",
      "\u001b[36mFile \u001b[39m\u001b[32m~/mli/TwoTowerMLRetrieval/venv/lib/python3.13/site-packages/chromadb/api/rust.py:279\u001b[39m, in \u001b[36mRustBindingsAPI.delete_collection\u001b[39m\u001b[34m(self, name, tenant, database)\u001b[39m\n\u001b[32m    272\u001b[39m \u001b[38;5;129m@override\u001b[39m\n\u001b[32m    273\u001b[39m \u001b[38;5;28;01mdef\u001b[39;00m\u001b[38;5;250m \u001b[39m\u001b[34mdelete_collection\u001b[39m(\n\u001b[32m    274\u001b[39m     \u001b[38;5;28mself\u001b[39m,\n\u001b[32m   (...)\u001b[39m\u001b[32m    277\u001b[39m     database: \u001b[38;5;28mstr\u001b[39m = DEFAULT_DATABASE,\n\u001b[32m    278\u001b[39m ) -> \u001b[38;5;28;01mNone\u001b[39;00m:\n\u001b[32m--> \u001b[39m\u001b[32m279\u001b[39m     \u001b[38;5;28;43mself\u001b[39;49m\u001b[43m.\u001b[49m\u001b[43mbindings\u001b[49m\u001b[43m.\u001b[49m\u001b[43mdelete_collection\u001b[49m\u001b[43m(\u001b[49m\u001b[43mname\u001b[49m\u001b[43m,\u001b[49m\u001b[43m \u001b[49m\u001b[43mtenant\u001b[49m\u001b[43m,\u001b[49m\u001b[43m \u001b[49m\u001b[43mdatabase\u001b[49m\u001b[43m)\u001b[49m\n",
      "\u001b[31mInternalError\u001b[39m: Database error: error returned from database: (code: 1032) attempt to write a readonly database"
     ]
    }
   ],
   "source": [
    "client = chromadb.PersistentClient(path=CHROMA_STORE_PATH)\n",
    "\n",
    "# Delete the collection if it already exists to ensure a fresh start\n",
    "if COLLECTION_NAME in [c.name for c in client.list_collections()]:\n",
    "    print(f\"Collection '{COLLECTION_NAME}' already exists. Deleting it.\")\n",
    "    client.delete_collection(name=COLLECTION_NAME)\n",
    "\n",
    "collection = client.get_or_create_collection(name=COLLECTION_NAME)\n",
    "print(f\"Created new collection: '{COLLECTION_NAME}'\")"
   ]
  },
  {
   "cell_type": "code",
   "execution_count": 11,
   "metadata": {},
   "outputs": [
    {
     "name": "stderr",
     "output_type": "stream",
     "text": [
      "100%|██████████| 372/372 [02:07<00:00,  2.93it/s]"
     ]
    },
    {
     "name": "stdout",
     "output_type": "stream",
     "text": [
      "\n",
      "✅ Successfully indexed 185828 documents into ChromaDB.\n"
     ]
    },
    {
     "name": "stderr",
     "output_type": "stream",
     "text": [
      "\n"
     ]
    }
   ],
   "source": [
    "batch_size = 500\n",
    "num_docs = len(documents)\n",
    "\n",
    "for i in tqdm(range(0, num_docs, batch_size)):\n",
    "    batch_end = min(i + batch_size, num_docs)\n",
    "    \n",
    "    batch_docs = documents[i:batch_end]\n",
    "    batch_embeddings = embeddings[i:batch_end]\n",
    "    batch_ids = [f\"doc_{j}\" for j in range(i, batch_end)]\n",
    "    \n",
    "    collection.add(\n",
    "        ids=batch_ids,\n",
    "        documents=batch_docs,\n",
    "        embeddings=batch_embeddings.tolist()\n",
    "    )\n",
    "\n",
    "print(f\"\\n✅ Successfully indexed {collection.count()} documents into ChromaDB.\")"
   ]
  },
  {
   "cell_type": "markdown",
   "metadata": {},
   "source": [
    "## 4. (Optional) Test Query"
   ]
  },
  {
   "cell_type": "code",
   "execution_count": 18,
   "metadata": {},
   "outputs": [
    {
     "name": "stdout",
     "output_type": "stream",
     "text": [
      "Querying with the first document as an example:\n",
      "For example-The place value of 8 in 80 is tens, while the place value of 5 and 6 in 576 are hundreds and ones. In other words, in the number 80, the position of 8 is tens.t is by using these ten digits that numbers are formed. The value of ten digit in a number is determined by its place in the number and is know as the place value. For example, to write the numeral for two thousand four hundred and eighty seven, we write 2487.\n",
      "\n",
      "Results:\n"
     ]
    }
   ],
   "source": [
    "# This is a simple test and does not use the trained query encoder.\n",
    "# It finds documents similar to the embedding of another document.\n",
    "results = collection.query(\n",
    "    query_embeddings=[embeddings[0].tolist()],\n",
    "    n_results=5\n",
    ")\n",
    "\n",
    "print(\"Querying with the first document as an example:\")\n",
    "print(documents[0])\n",
    "print(\"\\nResults:\")\n",
    "for doc in results['documents'][0]:\n",
    "    print(f\"  - {doc[:100]}...\")"
   ]
  },
  {
   "cell_type": "code",
   "execution_count": null,
   "metadata": {},
   "outputs": [],
   "source": []
  }
 ],
 "metadata": {
  "kernelspec": {
   "display_name": "venv",
   "language": "python",
   "name": "python3"
  },
  "language_info": {
   "codemirror_mode": {
    "name": "ipython",
    "version": 3
   },
   "file_extension": ".py",
   "mimetype": "text/x-python",
   "name": "python",
   "nbconvert_exporter": "python",
   "pygments_lexer": "ipython3",
   "version": "3.13.5"
  }
 },
 "nbformat": 4,
 "nbformat_minor": 2
}
