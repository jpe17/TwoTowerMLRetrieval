{
 "cells": [
  {
   "cell_type": "markdown",
   "metadata": {},
   "source": [
    "## 1. Setup and Configuration"
   ]
  },
  {
   "cell_type": "code",
   "execution_count": 1,
   "metadata": {},
   "outputs": [],
   "source": [
    "import chromadb\n",
    "import pickle\n",
    "import numpy as np\n",
    "from tqdm import tqdm\n",
    "from pathlib import Path\n",
    "import json\n",
    "\n",
    "def load_config(path: str):\n",
    "    \"\"\"Loads a JSON config file.\"\"\"\n",
    "    with open(path, 'r') as f:\n",
    "        return json.load(f)\n",
    "\n",
    "config = load_config('../frontend/config.json')"
   ]
  },
  {
   "cell_type": "code",
   "execution_count": null,
   "metadata": {},
   "outputs": [],
   "source": [
    "# --- IMPORTANT: CONFIGURE THIS PATH ---\n",
    "# Point this to the latest run directory created by the training script.\n",
    "# Example: ARTIFACTS_PATH = \"../backend/artifacts/run_20240101_120000\"\n",
    "\n",
    "ARTIFACTS_PATH = config['ARTIFACTS_PATH']\n",
    "print(\"Loading artifacts from: \", ARTIFACTS_PATH)\n",
    "CHROMA_STORE_PATH = \"./chroma_store\"\n",
    "COLLECTION_NAME = \"docs\""
   ]
  },
  {
   "cell_type": "markdown",
   "metadata": {},
   "source": [
    "## 2. Load Artifacts"
   ]
  },
  {
   "cell_type": "code",
   "execution_count": null,
   "metadata": {},
   "outputs": [],
   "source": [
    "artifacts = Path('../' + ARTIFACTS_PATH)\n",
    "\n",
    "if not artifacts.exists():\n",
    "    raise FileNotFoundError(f\"Artifacts directory not found at {ARTIFACTS_PATH}. Please run the backend training script first.\")\n",
    "\n",
    "# Load documents\n",
    "with open(artifacts / 'documents.pkl', 'rb') as f:\n",
    "    documents = pickle.load(f)\n",
    "\n",
    "# Load embeddings\n",
    "embeddings = np.load(artifacts / 'document_embeddings.npy')\n",
    "\n",
    "print(f\"Loaded {len(documents)} documents and {embeddings.shape[0]} embeddings.\")"
   ]
  },
  {
   "cell_type": "markdown",
   "metadata": {},
   "source": [
    "## 3. Setup ChromaDB and Index Documents"
   ]
  },
  {
   "cell_type": "code",
   "execution_count": null,
   "metadata": {},
   "outputs": [],
   "source": [
    "client = chromadb.PersistentClient(path=CHROMA_STORE_PATH)\n",
    "\n",
    "# Delete the collection if it already exists to ensure a fresh start\n",
    "if COLLECTION_NAME in [c.name for c in client.list_collections()]:\n",
    "    print(f\"Collection '{COLLECTION_NAME}' already exists. Deleting it.\")\n",
    "    client.delete_collection(name=COLLECTION_NAME)\n",
    "\n",
    "collection = client.get_or_create_collection(name=COLLECTION_NAME)\n",
    "print(f\"Created new collection: '{COLLECTION_NAME}'\")"
   ]
  },
  {
   "cell_type": "code",
   "execution_count": null,
   "metadata": {},
   "outputs": [],
   "source": [
    "batch_size = 500\n",
    "num_docs = len(documents)\n",
    "\n",
    "for i in tqdm(range(0, num_docs, batch_size)):\n",
    "    batch_end = min(i + batch_size, num_docs)\n",
    "    \n",
    "    batch_docs = documents[i:batch_end]\n",
    "    batch_embeddings = embeddings[i:batch_end]\n",
    "    batch_ids = [f\"doc_{j}\" for j in range(i, batch_end)]\n",
    "    \n",
    "    collection.add(\n",
    "        ids=batch_ids,\n",
    "        documents=batch_docs,\n",
    "        embeddings=batch_embeddings.tolist()\n",
    "    )\n",
    "\n",
    "print(f\"\\n✅ Successfully indexed {collection.count()} documents into ChromaDB.\")"
   ]
  },
  {
   "cell_type": "markdown",
   "metadata": {},
   "source": [
    "## 4. (Optional) Test Query"
   ]
  },
  {
   "cell_type": "code",
   "execution_count": null,
   "metadata": {},
   "outputs": [],
   "source": [
    "# This is a simple test and does not use the trained query encoder.\n",
    "# It finds documents similar to the embedding of another document.\n",
    "results = collection.query(\n",
    "    query_embeddings=[embeddings[0].tolist()],\n",
    "    n_results=5\n",
    ")\n",
    "\n",
    "print(\"Querying with the first document as an example:\")\n",
    "print(documents[0])\n",
    "print(\"\\nResults:\")\n",
    "for doc in results['documents'][0]:\n",
    "    print(f\"  - {doc[:100]}...\")"
   ]
  }
 ],
 "metadata": {
  "kernelspec": {
   "display_name": "venv",
   "language": "python",
   "name": "python3"
  },
  "language_info": {
   "codemirror_mode": {
    "name": "ipython",
    "version": 3
   },
   "file_extension": ".py",
   "mimetype": "text/x-python",
   "name": "python",
   "nbconvert_exporter": "python",
   "pygments_lexer": "ipython3",
   "version": "3.13.5"
  }
 },
 "nbformat": 4,
 "nbformat_minor": 2
}
