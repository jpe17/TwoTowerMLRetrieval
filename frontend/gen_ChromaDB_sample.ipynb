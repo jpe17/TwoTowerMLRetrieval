{
 "cells": [
  {
   "cell_type": "code",
   "execution_count": 2,
   "id": "da8ad13b",
   "metadata": {},
   "outputs": [
    {
     "name": "stderr",
     "output_type": "stream",
     "text": [
      "/Users/joaoesteves/mli/TwoTowerMLRetrieval/venv/lib/python3.13/site-packages/tqdm/auto.py:21: TqdmWarning: IProgress not found. Please update jupyter and ipywidgets. See https://ipywidgets.readthedocs.io/en/stable/user_install.html\n",
      "  from .autonotebook import tqdm as notebook_tqdm\n"
     ]
    }
   ],
   "source": [
    "from sentence_transformers import SentenceTransformer\n",
    "import chromadb\n",
    "from chromadb.config import Settings\n",
    "\n"
   ]
  },
  {
   "cell_type": "code",
   "execution_count": 3,
   "id": "d5656753",
   "metadata": {},
   "outputs": [
    {
     "name": "stdout",
     "output_type": "stream",
     "text": [
      "Collection is already empty. Nothing to delete.\n"
     ]
    }
   ],
   "source": [
    "# Load pretrained dual encoder model\n",
    "model = SentenceTransformer('sentence-transformers/msmarco-MiniLM-L-6-v3')\n",
    "\n",
    "# Setup ChromaDB\n",
    "# Create a persistent ChromaDB client\n",
    "client = chromadb.PersistentClient(path=\"./chroma_store\")  # Your desired folder\n",
    "\n",
    "# Create or load a collection\n",
    "collection = client.get_or_create_collection(\"docs\")\n",
    "existing = collection.get()\n",
    "all_ids = existing[\"ids\"]\n",
    "\n",
    "if all_ids:\n",
    "    collection.delete(ids=all_ids)\n",
    "    print(f\"Deleted {len(all_ids)} documents.\")\n",
    "else:\n",
    "    print(\"Collection is already empty. Nothing to delete.\")\n"
   ]
  },
  {
   "cell_type": "code",
   "execution_count": 4,
   "id": "4e3af47d",
   "metadata": {},
   "outputs": [],
   "source": [
    "# Sample documents\n",
    "documents = [\n",
    "    \"How to grow tomatoes in pots.\",\n",
    "    \"What is a transformer model in machine learning?\",\n",
    "    \"Best practices for Docker security.\",\n",
    "    \"Understanding climate change impact.\",\n",
    "    \"Guide to UK tourist visas.\"\n",
    "]\n",
    "\n",
    "# Create unique IDs\n",
    "doc_ids = [f\"doc_{i}\" for i in range(len(documents))]\n",
    "\n",
    "# Generate embeddings\n",
    "embeddings = model.encode(documents)\n"
   ]
  },
  {
   "cell_type": "code",
   "execution_count": 5,
   "id": "4579e23c",
   "metadata": {},
   "outputs": [
    {
     "name": "stdout",
     "output_type": "stream",
     "text": [
      "Indexed 5 documents.\n"
     ]
    }
   ],
   "source": [
    "# Add to ChromaDB\n",
    "for doc_id, text, emb in zip(doc_ids, documents, embeddings):\n",
    "    collection.add(\n",
    "        ids=[doc_id],\n",
    "        documents=[text],\n",
    "        embeddings=[emb.tolist()]\n",
    "    )\n",
    "\n",
    "print(f\"Indexed {len(documents)} documents.\")\n"
   ]
  },
  {
   "cell_type": "code",
   "execution_count": 6,
   "id": "cb188974",
   "metadata": {},
   "outputs": [
    {
     "name": "stdout",
     "output_type": "stream",
     "text": [
      "['Guide to UK tourist visas.', 'How to grow tomatoes in pots.', 'Best practices for Docker security.']\n"
     ]
    }
   ],
   "source": [
    "# Querying the collection\n",
    "query = \"How to get a UK visa\"\n",
    "query_embedding = model.encode([query])[0].tolist()\n",
    "\n",
    "results = collection.query(query_embeddings=[query_embedding], n_results=3)\n",
    "print(results[\"documents\"][0])"
   ]
  },
  {
   "cell_type": "code",
   "execution_count": null,
   "id": "866517ec-4c70-48f1-b009-46071d82df86",
   "metadata": {},
   "outputs": [],
   "source": []
  }
 ],
 "metadata": {
  "kernelspec": {
   "display_name": "venv",
   "language": "python",
   "name": "python3"
  },
  "language_info": {
   "codemirror_mode": {
    "name": "ipython",
    "version": 3
   },
   "file_extension": ".py",
   "mimetype": "text/x-python",
   "name": "python",
   "nbconvert_exporter": "python",
   "pygments_lexer": "ipython3",
   "version": "3.13.5"
  }
 },
 "nbformat": 4,
 "nbformat_minor": 5
}
