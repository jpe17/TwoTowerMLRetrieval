{
 "cells": [
  {
   "cell_type": "markdown",
   "metadata": {},
   "source": [
    "# Inspect and preprocess data for data loader"
   ]
  },
  {
   "cell_type": "code",
   "execution_count": 2,
   "metadata": {},
   "outputs": [],
   "source": [
    "import pyarrow as pa\n",
    "import pandas as pd\n"
   ]
  },
  {
   "cell_type": "markdown",
   "metadata": {},
   "source": [
    "# 1. Inspect data"
   ]
  },
  {
   "cell_type": "markdown",
   "metadata": {},
   "source": [
    "### Inspect parquet"
   ]
  },
  {
   "cell_type": "code",
   "execution_count": 3,
   "metadata": {},
   "outputs": [
    {
     "name": "stdout",
     "output_type": "stream",
     "text": [
      "Index(['answers', 'query', 'query_id', 'query_type', 'wellFormedAnswers',\n",
      "       'passages.is_selected', 'passages.passage_text', 'passages.url'],\n",
      "      dtype='object')\n",
      "                                             answers  \\\n",
      "0  [The immediate impact of the success of the ma...   \n",
      "1  [Restorative justice that fosters dialogue bet...   \n",
      "2  [The reasons why Stalin wanted to control East...   \n",
      "3  [Nails rust in water because water allows the ...   \n",
      "4    [Depona Ab is a library in Vilhelmina, Sweden.]   \n",
      "\n",
      "                                               query  query_id   query_type  \\\n",
      "0  )what was the immediate impact of the success ...   1185869  DESCRIPTION   \n",
      "1  _________ justice is designed to repair the ha...   1185868  DESCRIPTION   \n",
      "2      why did stalin want control of eastern europe   1185854  DESCRIPTION   \n",
      "3                             why do nails get rusty   1185755  DESCRIPTION   \n",
      "4                                          depona ab   1184773  DESCRIPTION   \n",
      "\n",
      "  wellFormedAnswers            passages.is_selected  \\\n",
      "0                []  [1, 0, 0, 0, 0, 0, 0, 0, 0, 0]   \n",
      "1                []  [0, 0, 0, 0, 0, 0, 1, 0, 0, 0]   \n",
      "2                []  [0, 0, 0, 0, 0, 0, 1, 0, 0, 0]   \n",
      "3                []  [0, 0, 0, 0, 0, 1, 0, 0, 0, 0]   \n",
      "4                []  [0, 0, 0, 0, 0, 0, 1, 0, 0, 0]   \n",
      "\n",
      "                               passages.passage_text  \\\n",
      "0  [The presence of communication amid scientific...   \n",
      "1  [group discussions, community boards or panels...   \n",
      "2  [Western betrayal. The concept of Western betr...   \n",
      "3  [what to Do If I Stepped on Rusty Nail: Preven...   \n",
      "4  [A preview of what LinkedIn members have to sa...   \n",
      "\n",
      "                                        passages.url  \n",
      "0  [http://www.pitt.edu/~sdb14/atombomb.html, htt...  \n",
      "1  [https://www.justice.gov/ovw/file/926101/downl...  \n",
      "2  [https://en.wikipedia.org/wiki/Western_betraya...  \n",
      "3  [http://www.healthcare-online.org/Stepped-On-R...  \n",
      "4  [https://www.linkedin.com/in/goranaxelsson, ht...  \n",
      "answers <class 'list'> ['The immediate impact of the success of the manhattan project was the only cloud hanging over the impressive achievement of the atomic researchers and engineers is what their success truly meant; hundreds of thousands of innocent lives obliterated.']\n",
      "query <class 'str'> )what was the immediate impact of the success of the manhattan project?\n",
      "query_id <class 'numpy.int32'> 1185869\n",
      "query_type <class 'str'> DESCRIPTION\n",
      "wellFormedAnswers <class 'list'> []\n",
      "passages.is_selected <class 'list'> [1, 0, 0, 0, 0, 0, 0, 0, 0, 0]\n",
      "passages.passage_text <class 'list'> ['The presence of communication amid scientific minds was equally important to the success of the Manhattan Project as scientific intellect was. The only cloud hanging over the impressive achievement of the atomic researchers and engineers is what their success truly meant; hundreds of thousands of innocent lives obliterated.', 'The Manhattan Project and its atomic bomb helped bring an end to World War II. Its legacy of peaceful uses of atomic energy continues to have an impact on history and science.', 'Essay on The Manhattan Project - The Manhattan Project The Manhattan Project was to see if making an atomic bomb possible. The success of this project would forever change the world forever making it known that something this powerful can be manmade.', 'The Manhattan Project was the name for a project conducted during World War II, to develop the first atomic bomb. It refers specifically to the period of the project from 194 … 2-1946 under the control of the U.S. Army Corps of Engineers, under the administration of General Leslie R. Groves.', 'versions of each volume as well as complementary websites. The first website–The Manhattan Project: An Interactive History–is available on the Office of History and Heritage Resources website, http://www.cfo. doe.gov/me70/history. The Office of History and Heritage Resources and the National Nuclear Security', 'The Manhattan Project. This once classified photograph features the first atomic bomb — a weapon that atomic scientists had nicknamed Gadget.. The nuclear age began on July 16, 1945, when it was detonated in the New Mexico desert.', 'Nor will it attempt to substitute for the extraordinarily rich literature on the atomic bombs and the end of World War II. This collection does not attempt to document the origins and development of the Manhattan Project.', 'Manhattan Project. The Manhattan Project was a research and development undertaking during World War II that produced the first nuclear weapons. It was led by the United States with the support of the United Kingdom and Canada. From 1942 to 1946, the project was under the direction of Major General Leslie Groves of the U.S. Army Corps of Engineers. Nuclear physicist Robert Oppenheimer was the director of the Los Alamos Laboratory that designed the actual bombs. The Army component of the project was designated the', 'In June 1942, the United States Army Corps of Engineersbegan the Manhattan Project- The secret name for the 2 atomic bombs.', \"One of the main reasons Hanford was selected as a site for the Manhattan Project's B Reactor was its proximity to the Columbia River, the largest river flowing into the Pacific Ocean from the North American coast.\"]\n",
      "passages.url <class 'list'> ['http://www.pitt.edu/~sdb14/atombomb.html', 'http://www.osti.gov/accomplishments/manhattan_story.html', 'http://www.123helpme.com/impact-of-the-manhattan-project-preview.asp?id=177337', 'http://www.answers.com/Q/How_did_the_Manhattan_Project_impact_on_society', 'https://www.osti.gov/manhattan-project-history/publications/Manhattan_Project_2010.pdf', 'http://www.ushistory.org/us/51f.asp', 'http://nsarchive.gwu.edu/NSAEBB/NSAEBB162', 'https://en.wikipedia.org/wiki/Manhattan_Project', 'https://quizlet.com/41456230/a-bomb-flash-cards/', 'https://www.atomicheritage.org/history/environmental-consequences']\n"
     ]
    }
   ],
   "source": [
    "df = pd.read_parquet(\"/home/bwilliams/mlx/week2/TwoTowerMLRetrieval/data/ms_marco_train.parquet\", engine=\"fastparquet\")\n",
    "print(df.columns)\n",
    "print(df.head())\n",
    "# For one row, inspect types:\n",
    "row0 = df.iloc[0]\n",
    "for col in df.columns:\n",
    "    print(col, type(row0[col]), row0[col])"
   ]
  },
  {
   "cell_type": "markdown",
   "metadata": {},
   "source": [
    "So we got:\n",
    "\n",
    "| Column                  | Type               | Notes                                                |\n",
    "| ----------------------- | ------------------ | ---------------------------------------------------- |\n",
    "| `answers`               | list of strings    | (gold answers—not needed for two-tower training)     |\n",
    "| `query`                 | string             | the raw query text                                   |\n",
    "| `query_id`              | int                | unique ID per query                                  |\n",
    "| `query_type`            | string             | e.g. “DESCRIPTION” (probably not used in our model)  |\n",
    "| `wellFormedAnswers`     | list of strings    | almost always empty                                  |\n",
    "| `passages.is_selected`  | list of ints (0/1) | length 10: which of the 10 candidates are “positive” |\n",
    "| `passages.passage_text` | list of strings    | length 10: the candidate passages                    |\n",
    "| `passages.url`          | list of strings    | length 10: source URLs (not needed for training)     |\n",
    "\n",
    "Parts we’ll actually use:\n",
    "\n",
    "- query → tokenise & embed\n",
    "- passages.passage_text → tokenise & embed\n",
    "- passages.is_selected → label positives vs negatives\n",
    "- (optionally) query_id for bookkeeping\n"
   ]
  },
  {
   "cell_type": "markdown",
   "metadata": {},
   "source": [
    "### Inspect word to idx pkl file"
   ]
  },
  {
   "cell_type": "code",
   "execution_count": 4,
   "metadata": {},
   "outputs": [
    {
     "name": "stdout",
     "output_type": "stream",
     "text": [
      "Vocab size: 400002\n",
      "the -> 0\n",
      ", -> 1\n",
      ". -> 2\n",
      "of -> 3\n",
      "to -> 4\n",
      "and -> 5\n",
      "in -> 6\n",
      "a -> 7\n",
      "\" -> 8\n",
      "'s -> 9\n"
     ]
    }
   ],
   "source": [
    "import pickle\n",
    "with open(\"/home/bwilliams/mlx/week2/TwoTowerMLRetrieval/data/word_to_idx.pkl\", \"rb\") as f:\n",
    "    word_to_idx = pickle.load(f)\n",
    "print(\"Vocab size:\", len(word_to_idx))\n",
    "# Inspect some entries:\n",
    "for w in list(word_to_idx)[:10]:\n",
    "    print(w, \"->\", word_to_idx[w])\n"
   ]
  },
  {
   "cell_type": "markdown",
   "metadata": {},
   "source": [
    "### Inspect embedding npy"
   ]
  },
  {
   "cell_type": "code",
   "execution_count": 5,
   "metadata": {},
   "outputs": [
    {
     "name": "stdout",
     "output_type": "stream",
     "text": [
      "Embeddings shape: (400002, 200)\n"
     ]
    }
   ],
   "source": [
    "import numpy as np\n",
    "emb = np.load(\"/home/bwilliams/mlx/week2/TwoTowerMLRetrieval/data/embeddings.npy\")\n",
    "print(\"Embeddings shape:\", emb.shape)  # e.g. (vocab_size, 200)\n"
   ]
  },
  {
   "cell_type": "markdown",
   "metadata": {},
   "source": [
    "# 2. Make some edits\n",
    "First we add and <unk> and <pad> token to the end of the tokeniser and embeddings"
   ]
  },
  {
   "cell_type": "markdown",
   "metadata": {},
   "source": [
    "Loads your existing word_to_idx.pkl and embeddings.npy.\n",
    "\n",
    "Adds <pad> and <unk> at the end of the vocab.\n",
    "\n",
    "Creates a zero-vector for <pad> and the mean of all existing embeddings for <unk>.\n",
    "\n",
    "Appends those two new rows to your embeddings matrix.\n",
    "\n",
    "Saves updated files as word_to_idx_with_pad_unk.pkl and embeddings_with_pad_unk.npy."
   ]
  },
  {
   "cell_type": "code",
   "execution_count": 6,
   "metadata": {},
   "outputs": [
    {
     "name": "stdout",
     "output_type": "stream",
     "text": [
      "Overwritten with <pad> at 400002, <unk> at 400003\n",
      "Updated shape: (400004, 200)\n"
     ]
    }
   ],
   "source": [
    "import numpy as np\n",
    "import pickle\n",
    "\n",
    "# Paths (overwrite originals)\n",
    "word_to_idx_path = \"/home/bwilliams/mlx/week2/TwoTowerMLRetrieval/data/word_to_idx.pkl\"\n",
    "embeddings_path  = \"/home/bwilliams/mlx/week2/TwoTowerMLRetrieval/data/embeddings.npy\"\n",
    "\n",
    "# 1. Load originals\n",
    "with open(word_to_idx_path, \"rb\") as f:\n",
    "  word_to_idx = pickle.load(f)\n",
    "embeddings = np.load(embeddings_path)\n",
    "\n",
    "# 2. Determine new indices\n",
    "pad_idx = len(word_to_idx)\n",
    "unk_idx = pad_idx + 1\n",
    "\n",
    "# 3. Add tokens to vocab\n",
    "word_to_idx[\"<pad>\"] = pad_idx\n",
    "word_to_idx[\"<unk>\"] = unk_idx\n",
    "\n",
    "# 4. Build new embeddings\n",
    "emb_dim = embeddings.shape[1]\n",
    "pad_emb = np.zeros((1, emb_dim), dtype=embeddings.dtype)\n",
    "unk_emb = embeddings.mean(axis=0, keepdims=True)\n",
    "\n",
    "# 5. Append and overwrite\n",
    "updated_embeddings = np.vstack([embeddings, pad_emb, unk_emb])\n",
    "with open(word_to_idx_path, \"wb\") as f:\n",
    "  pickle.dump(word_to_idx, f)\n",
    "np.save(embeddings_path, updated_embeddings)\n",
    "\n",
    "print(f\"Overwritten with <pad> at {pad_idx}, <unk> at {unk_idx}\")\n",
    "print(\"Updated shape:\", updated_embeddings.shape)\n"
   ]
  },
  {
   "cell_type": "code",
   "execution_count": null,
   "metadata": {},
   "outputs": [],
   "source": []
  }
 ],
 "metadata": {
  "kernelspec": {
   "display_name": "two_tower_env",
   "language": "python",
   "name": "python3"
  },
  "language_info": {
   "codemirror_mode": {
    "name": "ipython",
    "version": 3
   },
   "file_extension": ".py",
   "mimetype": "text/x-python",
   "name": "python",
   "nbconvert_exporter": "python",
   "pygments_lexer": "ipython3",
   "version": "3.10.18"
  }
 },
 "nbformat": 4,
 "nbformat_minor": 2
}
